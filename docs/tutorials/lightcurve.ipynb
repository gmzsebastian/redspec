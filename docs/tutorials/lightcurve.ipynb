{
 "cells": [
  {
   "cell_type": "markdown",
   "id": "c367cb2f",
   "metadata": {},
   "source": [
    "(lightcurve)=\n",
    "\n",
    "# Create a Lightcurve"
   ]
  },
  {
   "cell_type": "markdown",
   "id": "fbbfaf9f",
   "metadata": {},
   "source": [
    "This notebook shows how to create a light curve, either for a single object or a series of objects. First, import the `get_all_lcs` function from the `slsne` package."
   ]
  },
  {
   "cell_type": "code",
   "execution_count": 8,
   "id": "9b943261",
   "metadata": {},
   "outputs": [],
   "source": [
    "from slsne.nuclear import run_nuclear"
   ]
  }
 ],
 "metadata": {
  "kernelspec": {
   "display_name": "Python 3",
   "language": "python",
   "name": "python3"
  },
  "language_info": {
   "codemirror_mode": {
    "name": "ipython",
    "version": 3
   },
   "file_extension": ".py",
   "mimetype": "text/x-python",
   "name": "python",
   "nbconvert_exporter": "python",
   "pygments_lexer": "ipython3",
   "version": "3.9.6"
  }
 },
 "nbformat": 4,
 "nbformat_minor": 5
}
